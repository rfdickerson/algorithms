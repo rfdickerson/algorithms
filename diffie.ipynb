{
 "cells": [
  {
   "cell_type": "markdown",
   "source": [
    "# Diffie Hellman Key Exchange\n",
    "\n",
    "The basic idea is to be able to agree on a mutually shared secret between several parties. A public version of each agent's secret is shared with others in order to make this shared secret."
   ],
   "metadata": {
    "collapsed": false,
    "pycharm": {
     "name": "#%% md\n"
    }
   }
  },
  {
   "cell_type": "markdown",
   "source": [
    "### Install dependencies"
   ],
   "metadata": {
    "collapsed": false,
    "pycharm": {
     "name": "#%% md\n"
    }
   }
  },
  {
   "cell_type": "code",
   "execution_count": 2,
   "metadata": {
    "collapsed": true,
    "pycharm": {
     "name": "#%%\n"
    }
   },
   "outputs": [],
   "source": [
    "from numpy.random import default_rng\n",
    "import numpy as np"
   ]
  },
  {
   "cell_type": "code",
   "execution_count": 3,
   "outputs": [],
   "source": [
    "def diffie_hellman_key(secret: int, q: int, p: int) -> int:\n",
    "    \"\"\"Diffie-Hellman key exchange\"\"\"\n",
    "    return q**secret % p\n"
   ],
   "metadata": {
    "collapsed": false,
    "pycharm": {
     "name": "#%%\n"
    }
   }
  },
  {
   "cell_type": "code",
   "execution_count": 6,
   "outputs": [
    {
     "name": "stdout",
     "output_type": "stream",
     "text": [
      "Alice shared: 3823, Bob shared: 3823\n"
     ]
    }
   ],
   "source": [
    "# choose a common generator\n",
    "q = 3\n",
    "\n",
    "# choose a common prime modulus\n",
    "p = 6857\n",
    "\n",
    "# Alice's secret\n",
    "alice_private = 56\n",
    "\n",
    "# Bob's secret\n",
    "bob_private = 32\n",
    "\n",
    "# alice's key that's safe to share with Bob in the clear\n",
    "alice_public = diffie_hellman_key(alice_private, q, p)\n",
    "bob_public = diffie_hellman_key(bob_private, q, p)\n",
    "\n",
    "# Bob uses Alice's public key and his secret to make a shared secret\n",
    "bob_shared_secret = diffie_hellman_key(bob_private, alice_public, p)\n",
    "\n",
    "# Alice uses Bob's public key and her secret to make the same shared secret\n",
    "alice_shared_secret = diffie_hellman_key(alice_private, bob_public, p)\n",
    "\n",
    "print(f\"Alice shared: {alice_shared_secret}, Bob shared: {bob_shared_secret}\")\n",
    "\n"
   ],
   "metadata": {
    "collapsed": false,
    "pycharm": {
     "name": "#%%\n"
    }
   }
  },
  {
   "cell_type": "code",
   "execution_count": 7,
   "outputs": [
    {
     "name": "stdout",
     "output_type": "stream",
     "text": [
      "Generator(PCG64)\n"
     ]
    },
    {
     "data": {
      "text/plain": "array([11,  5,  1, 20,  8,  5, 15, 19])"
     },
     "execution_count": 7,
     "metadata": {},
     "output_type": "execute_result"
    }
   ],
   "source": [
    "rng = np.random.default_rng(bob_shared_secret)\n",
    "print(rng)\n",
    "rints = rng.integers(32, size=8)\n",
    "rints"
   ],
   "metadata": {
    "collapsed": false,
    "pycharm": {
     "name": "#%%\n"
    }
   }
  },
  {
   "cell_type": "code",
   "execution_count": null,
   "outputs": [],
   "source": [],
   "metadata": {
    "collapsed": false,
    "pycharm": {
     "name": "#%%\n"
    }
   }
  }
 ],
 "metadata": {
  "kernelspec": {
   "display_name": "Python 3",
   "language": "python",
   "name": "python3"
  },
  "language_info": {
   "codemirror_mode": {
    "name": "ipython",
    "version": 2
   },
   "file_extension": ".py",
   "mimetype": "text/x-python",
   "name": "python",
   "nbconvert_exporter": "python",
   "pygments_lexer": "ipython2",
   "version": "2.7.6"
  }
 },
 "nbformat": 4,
 "nbformat_minor": 0
}