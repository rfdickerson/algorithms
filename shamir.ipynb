{
 "cells": [
  {
   "cell_type": "code",
   "execution_count": 65,
   "metadata": {
    "collapsed": true
   },
   "outputs": [],
   "source": [
    "import scipy\n",
    "import numpy as np\n",
    "from scipy.interpolate import lagrange\n",
    "from numpy.random import default_rng"
   ]
  },
  {
   "cell_type": "code",
   "execution_count": 123,
   "outputs": [
    {
     "name": "stdout",
     "output_type": "stream",
     "text": [
      "Shares:\n",
      " [[     116  2951430]\n",
      " [      37   301296]\n",
      " [     248 13479090]\n",
      " [     166  6041280]\n",
      " [     234 12000732]]\n"
     ]
    }
   ],
   "source": [
    "FIELD_SIZE = 256\n",
    "def create_shares(secret: int, n: int, t: int):\n",
    "    \"\"\"Shamir's Secret Sharing\n",
    "\n",
    "    :param secret: secret that you want secured\n",
    "    :param n: total number of shares\n",
    "    :param t: threshold of required number of shares to break\n",
    "    :return:\n",
    "    \"\"\"\n",
    "    rng = default_rng()\n",
    "\n",
    "    # create a new polynomial degree t-1\n",
    "    p = rng.integers(1, FIELD_SIZE, size=t-1)\n",
    "\n",
    "    # append the secret as the constant value\n",
    "    p = np.append(p, secret)\n",
    "\n",
    "    # take random samples along the polynomial\n",
    "    x = rng.choice(FIELD_SIZE, size=n, replace=False)\n",
    "    y = np.polyval(p, x)\n",
    "\n",
    "    return np.column_stack(( x, y ))\n",
    "\n",
    "shares = create_shares(42, 5, 3)\n",
    "\n",
    "print(f\"Shares:\\n {shares}\")\n",
    "\n"
   ],
   "metadata": {
    "collapsed": false,
    "pycharm": {
     "name": "#%%\n"
    }
   }
  },
  {
   "cell_type": "code",
   "execution_count": 133,
   "outputs": [
    {
     "name": "stdout",
     "output_type": "stream",
     "text": [
      "[[     116  2951430]\n",
      " [      37   301296]\n",
      " [     248 13479090]]\n"
     ]
    },
    {
     "data": {
      "text/plain": "42"
     },
     "execution_count": 133,
     "metadata": {},
     "output_type": "execute_result"
    }
   ],
   "source": [
    "trimmed_shares = shares[0:3]\n",
    "print(trimmed_shares)\n",
    "\n",
    "def reconstruct(shares) -> int:\n",
    "    x, y = shares[:,0], shares[:,1]\n",
    "    f = lagrange(x, y)\n",
    "    return round(f[0])\n",
    "\n",
    "reconstruct(trimmed_shares)"
   ],
   "metadata": {
    "collapsed": false,
    "pycharm": {
     "name": "#%%\n"
    }
   }
  },
  {
   "cell_type": "code",
   "execution_count": null,
   "outputs": [],
   "source": [],
   "metadata": {
    "collapsed": false,
    "pycharm": {
     "name": "#%%\n"
    }
   }
  }
 ],
 "metadata": {
  "kernelspec": {
   "display_name": "Python 3",
   "language": "python",
   "name": "python3"
  },
  "language_info": {
   "codemirror_mode": {
    "name": "ipython",
    "version": 2
   },
   "file_extension": ".py",
   "mimetype": "text/x-python",
   "name": "python",
   "nbconvert_exporter": "python",
   "pygments_lexer": "ipython2",
   "version": "2.7.6"
  }
 },
 "nbformat": 4,
 "nbformat_minor": 0
}